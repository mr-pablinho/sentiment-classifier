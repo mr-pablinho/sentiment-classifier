{
 "cells": [
  {
   "cell_type": "markdown",
   "metadata": {},
   "source": [
    "# Sentiment Analysis of Amazon Reviews"
   ]
  },
  {
   "cell_type": "code",
   "execution_count": null,
   "metadata": {},
   "outputs": [],
   "source": [
    "import pandas as pd\n",
    "import numpy as np\n",
    "import matplotlib.pyplot as plt\n",
    "import seaborn as sns\n",
    "import nltk\n",
    "\n",
    "plt.style.use('bmh')\n",
    "plt.rcParams.update({'font.size': 7, 'font.family': 'monospace'})"
   ]
  },
  {
   "cell_type": "code",
   "execution_count": null,
   "metadata": {},
   "outputs": [],
   "source": [
    "# Import data\n",
    "df = pd.read_csv('../data/amazon_reviews.csv')\n",
    "df = df.head(500)\n",
    "df = df.reset_index()\n",
    "df.head()"
   ]
  },
  {
   "cell_type": "code",
   "execution_count": null,
   "metadata": {},
   "outputs": [],
   "source": [
    "# Exploratory analysis\n",
    "cmap = sns.color_palette(\"coolwarm\", as_cmap=True)\n",
    "cmap = cmap(np.linspace(0, 1, 5))\n",
    "ax = df['Score'].value_counts().sort_index().plot(\n",
    "    kind='bar',\n",
    "    title='Reviews by Stars',\n",
    "    figsize=(6, 4), \n",
    "    color=cmap,\n",
    "    width=0.8\n",
    "    )\n",
    "\n",
    "ax.set_xlabel('Stars')\n",
    "ax.set_ylabel('Number of Reviews')\n",
    "ax.set_xticklabels(ax.get_xticklabels(), rotation=0)\n",
    "plt.show()\n",
    "\n",
    "df.info()"
   ]
  },
  {
   "cell_type": "markdown",
   "metadata": {},
   "source": [
    "## VADER Sentiment Scoring\n",
    "\n",
    "Vader (Valence Aware Dictionary and sEntiment Reasoner) is a pre-trained sentiment analysis model. VADER analyzes text based on a predefined list of words and their associated sentiment scores.\n",
    "- PROS: easy to use and handles informal text.\n",
    "- CONS: limited contextual understanding and domain dependence."
   ]
  },
  {
   "cell_type": "code",
   "execution_count": null,
   "metadata": {},
   "outputs": [],
   "source": [
    "from nltk.sentiment import SentimentIntensityAnalyzer\n",
    "from tqdm.notebook import tqdm\n",
    "\n",
    "sia = SentimentIntensityAnalyzer()"
   ]
  },
  {
   "cell_type": "code",
   "execution_count": null,
   "metadata": {},
   "outputs": [],
   "source": [
    "# Test the sentiment analyzer object\n",
    "print(sia.polarity_scores('I love this product'))\n",
    "print(sia.polarity_scores('I hate this product'))\n",
    "print(sia.polarity_scores('I love this product so much'))\n",
    "print(sia.polarity_scores('I hate this product so much'))"
   ]
  },
  {
   "cell_type": "code",
   "execution_count": null,
   "metadata": {},
   "outputs": [],
   "source": [
    "# Apply the sentiment analyzer to the reviews\n",
    "res_vader = {}\n",
    "for i in range(len(df)):\n",
    "    row = df.iloc[i]\n",
    "    text = row['Text']\n",
    "    res_vader[i]= sia.polarity_scores(text)\n",
    "    \n",
    "vader = pd.DataFrame(res_vader).T\n",
    "vader = vader.reset_index()\n",
    "vader = vader.merge(df, on='index', how='left')\n",
    "vader = vader.drop(columns=['index', 'Id'])   \n",
    "\n",
    "vader.head()"
   ]
  },
  {
   "cell_type": "code",
   "execution_count": null,
   "metadata": {},
   "outputs": [],
   "source": [
    "ax = sns.barplot(data=vader, x='Score', y='compound', palette=list(cmap), hue='Score')\n",
    "ax.set_title('Compound Score by Amazon Review')\n",
    "ax.get_legend().remove()\n",
    "plt.show()"
   ]
  },
  {
   "cell_type": "code",
   "execution_count": null,
   "metadata": {},
   "outputs": [],
   "source": [
    "fig, axs = plt.subplots(1, 3, figsize=(12, 3))\n",
    "sns.barplot(data=vader, x='Score', y='pos', ax=axs[0], palette=list(cmap), hue='Score')\n",
    "sns.barplot(data=vader, x='Score', y='neu', ax=axs[1], palette=list(cmap), hue='Score')\n",
    "sns.barplot(data=vader, x='Score', y='neg', ax=axs[2], palette=list(cmap), hue='Score')\n",
    "axs[0].set_title('Positive')\n",
    "axs[1].set_title('Neutral')\n",
    "axs[2].set_title('Negative')\n",
    "for ax in axs:\n",
    "    ax.set_ylim(0, 1)\n",
    "    ax.get_legend().remove()\n",
    "plt.tight_layout()\n",
    "plt.show()"
   ]
  },
  {
   "cell_type": "markdown",
   "metadata": {},
   "source": [
    "## RoBERTa Pretrained Model\n",
    "This is a roBERTa-base model trained on ~58M tweets and finetuned for sentiment analysis with the TweetEval benchmark. "
   ]
  },
  {
   "cell_type": "code",
   "execution_count": null,
   "metadata": {},
   "outputs": [],
   "source": [
    "from transformers import AutoTokenizer, AutoModelForSequenceClassification\n",
    "from scipy.special import softmax"
   ]
  },
  {
   "cell_type": "code",
   "execution_count": null,
   "metadata": {},
   "outputs": [],
   "source": [
    "# Transfer learning model with predefined model weights\n",
    "MODEL = f\"cardiffnlp/twitter-roberta-base-sentiment\"\n",
    "tokenizer = AutoTokenizer.from_pretrained(MODEL)\n",
    "model = AutoModelForSequenceClassification.from_pretrained(MODEL)"
   ]
  },
  {
   "cell_type": "code",
   "execution_count": null,
   "metadata": {},
   "outputs": [],
   "source": [
    "# Run RoBERTa\n",
    "\n",
    "def run_roberta(text):\n",
    "    encoded_text = tokenizer(text, return_tensors='pt')\n",
    "    output = model(**encoded_text)\n",
    "    scores = output[0][0].detach().numpy()\n",
    "    scores = softmax(scores)\n",
    "    scores_dict = {\n",
    "        'roberta_neg': scores[0],\n",
    "        'roberta_neu': scores[1],\n",
    "        'roberta_pos': scores[2]\n",
    "    }\n",
    "    return scores_dict\n",
    "    \n",
    "sentiment_analysis = {}\n",
    "res_vader = {}\n",
    "\n",
    "for i in range(len(df)):\n",
    "    try:\n",
    "        print(f'Processed {i+1} out of {len(df)} reviews', end='\\r')\n",
    "        row = df.iloc[i]\n",
    "        text = row['Text']\n",
    "        myid = row['Id']\n",
    "        sentiment_analysis[myid] = run_roberta(text)\n",
    "        sentiment_analysis[myid].update(sia.polarity_scores(text))\n",
    "        sentiment_analysis[myid]['Score'] = row['Score']\n",
    "        sentiment_analysis[myid]['Text'] = row['Text']\n",
    "        sentiment_analysis[myid]['Summary'] = row['Summary']\n",
    "        sentiment_analysis[myid]['Time'] = row['Time']\n",
    "        sentiment_analysis[myid]['ProfileName'] = row['ProfileName']\n",
    "        sentiment_analysis[myid]['ProductId'] = row['ProductId']\n",
    "        sentiment_analysis[myid]['HelpfulnessNumerator'] = row['HelpfulnessNumerator']\n",
    "        sentiment_analysis[myid]['HelpfulnessDenominator'] = row['HelpfulnessDenominator']\n",
    "    except RuntimeError:\n",
    "        print(f'\\nError with {i+1}\\n')"
   ]
  },
  {
   "cell_type": "code",
   "execution_count": null,
   "metadata": {},
   "outputs": [],
   "source": [
    "sentiment_analysis = pd.DataFrame(sentiment_analysis).T\n",
    "sentiment_analysis = sentiment_analysis.rename(columns={'neg': 'vader_neg', 'neu': 'vader_neu', 'pos': 'vader_pos', 'compound': 'vader_compound'})\n",
    "sentiment_analysis"
   ]
  },
  {
   "cell_type": "markdown",
   "metadata": {},
   "source": [
    "## Compare results"
   ]
  },
  {
   "cell_type": "code",
   "execution_count": null,
   "metadata": {},
   "outputs": [],
   "source": [
    "# compare vader and roberta with a pairplot\n",
    "sns.pairplot(\n",
    "    data=sentiment_analysis, \n",
    "    markers='o',\n",
    "    vars=['vader_neg', 'vader_neu', 'vader_pos', 'roberta_neg', 'roberta_neu', 'roberta_pos'], \n",
    "    hue='Score', palette=['red', 'orange', 'goldenrod', 'green', 'blue'],\n",
    "    plot_kws={'alpha': 0.5}\n",
    "    )\n",
    "plt.legend(title='Score', loc='center left', bbox_to_anchor=(1, 0.5))\n",
    "plt.show()\n"
   ]
  }
 ],
 "metadata": {
  "kernelspec": {
   "display_name": ".venv",
   "language": "python",
   "name": "python3"
  },
  "language_info": {
   "codemirror_mode": {
    "name": "ipython",
    "version": 3
   },
   "file_extension": ".py",
   "mimetype": "text/x-python",
   "name": "python",
   "nbconvert_exporter": "python",
   "pygments_lexer": "ipython3",
   "version": "3.10.6"
  }
 },
 "nbformat": 4,
 "nbformat_minor": 2
}
